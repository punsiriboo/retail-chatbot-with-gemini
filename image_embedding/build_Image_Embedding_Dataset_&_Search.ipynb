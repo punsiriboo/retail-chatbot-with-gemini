{
  "cells": [
    {
      "cell_type": "markdown",
      "metadata": {
        "id": "GZ3H2bRfHuYP"
      },
      "source": [
        "# Overview\n",
        "\n",
        "This Colab demonstrates CoCa image embedding (https://arxiv.org/abs/2205.01917) inference end-to-end, including getting embedding from both image and text, indexing the embedding and search using either ScaNN or Vertex Matching Engine.\n",
        "\n",
        "The information in this documentation is provided to the customer on an “as is” and “with all faults” basis without any warranty of any kind, either express or implied. Google does not warrant or guarantee the correctness, accuracy or reliability of the information in here. In no event will Google or its affiliates or licensors be liable for any damage or harm to customers from customer’s use of these materials.\n",
        "\n",
        "Author: wuxiao@google.com"
      ]
    },
    {
      "cell_type": "markdown",
      "metadata": {
        "id": "Czg2D10QmR8l"
      },
      "source": [
        "# Section 0: Preparation\n",
        "\n",
        "\n",
        "\n",
        "---\n",
        "\n",
        "\n",
        "\n",
        "This is to set up shared functions and import shared packages for the remaining of the Colab to complete. Please execute this section every time the runtime get resets.\n",
        "\n",
        "Note: The installation may complain some version conflicts. Seems OK to ignore."
      ]
    },
    {
      "cell_type": "code",
      "execution_count": 1,
      "metadata": {
        "id": "S0OJMJyW7lzW"
      },
      "outputs": [
        {
          "name": "stdout",
          "output_type": "stream",
          "text": [
            "AccessDeniedException: 403 punsiri.boo@gmail.com does not have storage.objects.list access to the Google Cloud Storage bucket. Permission 'storage.objects.list' denied on resource (or it may not exist).\n",
            "\u001b[33mDEPRECATION: Configuring installation scheme with distutils config files is deprecated and will no longer work in the near future. If you are using a Homebrew or Linuxbrew Python, please see discussion at https://github.com/Homebrew/homebrew-core/issues/76621\u001b[0m\u001b[33m\n",
            "\u001b[0mCollecting absl-py==1.4.0\n",
            "  Using cached absl_py-1.4.0-py3-none-any.whl (126 kB)\n",
            "Collecting google-cloud-aiplatform==1.25.0\n",
            "  Using cached google_cloud_aiplatform-1.25.0-py2.py3-none-any.whl (2.6 MB)\n",
            "Collecting proto-plus==1.22.2\n",
            "  Using cached proto_plus-1.22.2-py3-none-any.whl (47 kB)\n",
            "Collecting protobuf==4.23.0\n",
            "  Using cached protobuf-4.23.0-cp37-abi3-macosx_10_9_universal2.whl (400 kB)\n",
            "Requirement already satisfied: google-cloud-storage<3.0.0dev,>=1.32.0 in /usr/local/lib/python3.9/site-packages (from google-cloud-aiplatform==1.25.0->-r requirements.txt (line 2)) (1.42.3)\n",
            "Requirement already satisfied: google-cloud-bigquery<4.0.0dev,>=1.15.0 in /usr/local/lib/python3.9/site-packages (from google-cloud-aiplatform==1.25.0->-r requirements.txt (line 2)) (3.1.0)\n",
            "Requirement already satisfied: google-api-core[grpc]!=2.0.*,!=2.1.*,!=2.2.*,!=2.3.*,!=2.4.*,!=2.5.*,!=2.6.*,!=2.7.*,<3.0.0dev,>=1.32.0 in /usr/local/lib/python3.9/site-packages (from google-cloud-aiplatform==1.25.0->-r requirements.txt (line 2)) (2.8.1)\n",
            "Requirement already satisfied: google-cloud-resource-manager<3.0.0dev,>=1.3.3 in /usr/local/lib/python3.9/site-packages (from google-cloud-aiplatform==1.25.0->-r requirements.txt (line 2)) (1.6.3)\n",
            "Requirement already satisfied: shapely<2.0.0 in /usr/local/lib/python3.9/site-packages (from google-cloud-aiplatform==1.25.0->-r requirements.txt (line 2)) (1.8.0)\n",
            "Requirement already satisfied: packaging>=14.3 in /usr/local/lib/python3.9/site-packages (from google-cloud-aiplatform==1.25.0->-r requirements.txt (line 2)) (24.1)\n",
            "Collecting google-api-core[grpc]!=2.0.*,!=2.1.*,!=2.2.*,!=2.3.*,!=2.4.*,!=2.5.*,!=2.6.*,!=2.7.*,<3.0.0dev,>=1.32.0\n",
            "  Using cached google_api_core-2.21.0-py3-none-any.whl (156 kB)\n",
            "Requirement already satisfied: requests<3.0.0.dev0,>=2.18.0 in /usr/local/lib/python3.9/site-packages (from google-api-core[grpc]!=2.0.*,!=2.1.*,!=2.2.*,!=2.3.*,!=2.4.*,!=2.5.*,!=2.6.*,!=2.7.*,<3.0.0dev,>=1.32.0->google-cloud-aiplatform==1.25.0->-r requirements.txt (line 2)) (2.32.3)\n",
            "  Using cached google_api_core-2.20.0-py3-none-any.whl (142 kB)\n",
            "  Using cached google_api_core-2.19.2-py3-none-any.whl (139 kB)\n",
            "  Using cached google_api_core-2.19.1-py3-none-any.whl (139 kB)\n",
            "  Using cached google_api_core-2.19.0-py3-none-any.whl (139 kB)\n",
            "  Using cached google_api_core-2.18.0-py3-none-any.whl (138 kB)\n",
            "  Using cached google_api_core-2.17.1-py3-none-any.whl (137 kB)\n",
            "Requirement already satisfied: google-auth<3.0.dev0,>=2.14.1 in /usr/local/lib/python3.9/site-packages (from google-api-core[grpc]!=2.0.*,!=2.1.*,!=2.2.*,!=2.3.*,!=2.4.*,!=2.5.*,!=2.6.*,!=2.7.*,<3.0.0dev,>=1.32.0->google-cloud-aiplatform==1.25.0->-r requirements.txt (line 2)) (2.35.0)\n",
            "Requirement already satisfied: googleapis-common-protos<2.0.dev0,>=1.56.2 in /usr/local/lib/python3.9/site-packages (from google-api-core[grpc]!=2.0.*,!=2.1.*,!=2.2.*,!=2.3.*,!=2.4.*,!=2.5.*,!=2.6.*,!=2.7.*,<3.0.0dev,>=1.32.0->google-cloud-aiplatform==1.25.0->-r requirements.txt (line 2)) (1.56.2)\n",
            "Requirement already satisfied: grpcio<2.0dev,>=1.33.2 in /usr/local/lib/python3.9/site-packages (from google-api-core[grpc]!=2.0.*,!=2.1.*,!=2.2.*,!=2.3.*,!=2.4.*,!=2.5.*,!=2.6.*,!=2.7.*,<3.0.0dev,>=1.32.0->google-cloud-aiplatform==1.25.0->-r requirements.txt (line 2)) (1.46.3)\n",
            "Requirement already satisfied: grpcio-status<2.0.dev0,>=1.33.2 in /usr/local/lib/python3.9/site-packages (from google-api-core[grpc]!=2.0.*,!=2.1.*,!=2.2.*,!=2.3.*,!=2.4.*,!=2.5.*,!=2.6.*,!=2.7.*,<3.0.0dev,>=1.32.0->google-cloud-aiplatform==1.25.0->-r requirements.txt (line 2)) (1.46.3)\n",
            "Requirement already satisfied: pyarrow<9.0dev,>=3.0.0 in /usr/local/lib/python3.9/site-packages (from google-cloud-bigquery<4.0.0dev,>=1.15.0->google-cloud-aiplatform==1.25.0->-r requirements.txt (line 2)) (6.0.1)\n",
            "Requirement already satisfied: google-cloud-core<3.0.0dev,>=1.4.1 in /usr/local/lib/python3.9/site-packages (from google-cloud-bigquery<4.0.0dev,>=1.15.0->google-cloud-aiplatform==1.25.0->-r requirements.txt (line 2)) (2.0.0)\n",
            "Requirement already satisfied: google-cloud-bigquery-storage<3.0.0dev,>=2.0.0 in /usr/local/lib/python3.9/site-packages (from google-cloud-bigquery<4.0.0dev,>=1.15.0->google-cloud-aiplatform==1.25.0->-r requirements.txt (line 2)) (2.13.1)\n",
            "Requirement already satisfied: google-resumable-media<3.0dev,>=0.6.0 in /usr/local/lib/python3.9/site-packages (from google-cloud-bigquery<4.0.0dev,>=1.15.0->google-cloud-aiplatform==1.25.0->-r requirements.txt (line 2)) (2.0.3)\n",
            "Requirement already satisfied: python-dateutil<3.0dev,>=2.7.2 in /usr/local/lib/python3.9/site-packages (from google-cloud-bigquery<4.0.0dev,>=1.15.0->google-cloud-aiplatform==1.25.0->-r requirements.txt (line 2)) (2.8.2)\n",
            "Requirement already satisfied: grpc-google-iam-v1<1.0.0dev,>=0.12.4 in /usr/local/lib/python3.9/site-packages (from google-cloud-resource-manager<3.0.0dev,>=1.3.3->google-cloud-aiplatform==1.25.0->-r requirements.txt (line 2)) (0.13.1)\n",
            "Requirement already satisfied: six in /usr/local/lib/python3.9/site-packages (from google-cloud-storage<3.0.0dev,>=1.32.0->google-cloud-aiplatform==1.25.0->-r requirements.txt (line 2)) (1.16.0)\n",
            "Requirement already satisfied: pyasn1-modules>=0.2.1 in /usr/local/lib/python3.9/site-packages (from google-auth<3.0.dev0,>=2.14.1->google-api-core[grpc]!=2.0.*,!=2.1.*,!=2.2.*,!=2.3.*,!=2.4.*,!=2.5.*,!=2.6.*,!=2.7.*,<3.0.0dev,>=1.32.0->google-cloud-aiplatform==1.25.0->-r requirements.txt (line 2)) (0.2.8)\n",
            "Requirement already satisfied: rsa<5,>=3.1.4 in /usr/local/lib/python3.9/site-packages (from google-auth<3.0.dev0,>=2.14.1->google-api-core[grpc]!=2.0.*,!=2.1.*,!=2.2.*,!=2.3.*,!=2.4.*,!=2.5.*,!=2.6.*,!=2.7.*,<3.0.0dev,>=1.32.0->google-cloud-aiplatform==1.25.0->-r requirements.txt (line 2)) (4.7.2)\n",
            "Requirement already satisfied: cachetools<6.0,>=2.0.0 in /usr/local/lib/python3.9/site-packages (from google-auth<3.0.dev0,>=2.14.1->google-api-core[grpc]!=2.0.*,!=2.1.*,!=2.2.*,!=2.3.*,!=2.4.*,!=2.5.*,!=2.6.*,!=2.7.*,<3.0.0dev,>=1.32.0->google-cloud-aiplatform==1.25.0->-r requirements.txt (line 2)) (4.2.2)\n",
            "Requirement already satisfied: google-crc32c<2.0dev,>=1.0 in /usr/local/lib/python3.9/site-packages (from google-resumable-media<3.0dev,>=0.6.0->google-cloud-bigquery<4.0.0dev,>=1.15.0->google-cloud-aiplatform==1.25.0->-r requirements.txt (line 2)) (1.3.0)\n",
            "Collecting googleapis-common-protos<2.0.dev0,>=1.56.2\n",
            "  Using cached googleapis_common_protos-1.65.0-py2.py3-none-any.whl (220 kB)\n",
            "Requirement already satisfied: numpy>=1.16.6 in /usr/local/lib/python3.9/site-packages (from pyarrow<9.0dev,>=3.0.0->google-cloud-bigquery<4.0.0dev,>=1.15.0->google-cloud-aiplatform==1.25.0->-r requirements.txt (line 2)) (1.22.4)\n",
            "Requirement already satisfied: charset-normalizer<4,>=2 in /usr/local/lib/python3.9/site-packages (from requests<3.0.0.dev0,>=2.18.0->google-api-core[grpc]!=2.0.*,!=2.1.*,!=2.2.*,!=2.3.*,!=2.4.*,!=2.5.*,!=2.6.*,!=2.7.*,<3.0.0dev,>=1.32.0->google-cloud-aiplatform==1.25.0->-r requirements.txt (line 2)) (2.0.4)\n",
            "Requirement already satisfied: certifi>=2017.4.17 in /usr/local/lib/python3.9/site-packages (from requests<3.0.0.dev0,>=2.18.0->google-api-core[grpc]!=2.0.*,!=2.1.*,!=2.2.*,!=2.3.*,!=2.4.*,!=2.5.*,!=2.6.*,!=2.7.*,<3.0.0dev,>=1.32.0->google-cloud-aiplatform==1.25.0->-r requirements.txt (line 2)) (2021.5.30)\n",
            "Requirement already satisfied: urllib3<3,>=1.21.1 in /usr/local/lib/python3.9/site-packages (from requests<3.0.0.dev0,>=2.18.0->google-api-core[grpc]!=2.0.*,!=2.1.*,!=2.2.*,!=2.3.*,!=2.4.*,!=2.5.*,!=2.6.*,!=2.7.*,<3.0.0dev,>=1.32.0->google-cloud-aiplatform==1.25.0->-r requirements.txt (line 2)) (2.2.3)\n",
            "Requirement already satisfied: idna<4,>=2.5 in /usr/local/lib/python3.9/site-packages (from requests<3.0.0.dev0,>=2.18.0->google-api-core[grpc]!=2.0.*,!=2.1.*,!=2.2.*,!=2.3.*,!=2.4.*,!=2.5.*,!=2.6.*,!=2.7.*,<3.0.0dev,>=1.32.0->google-cloud-aiplatform==1.25.0->-r requirements.txt (line 2)) (3.2)\n",
            "Requirement already satisfied: pyasn1<0.5.0,>=0.4.6 in /usr/local/lib/python3.9/site-packages (from pyasn1-modules>=0.2.1->google-auth<3.0.dev0,>=2.14.1->google-api-core[grpc]!=2.0.*,!=2.1.*,!=2.2.*,!=2.3.*,!=2.4.*,!=2.5.*,!=2.6.*,!=2.7.*,<3.0.0dev,>=1.32.0->google-cloud-aiplatform==1.25.0->-r requirements.txt (line 2)) (0.4.8)\n",
            "Installing collected packages: protobuf, absl-py, proto-plus, googleapis-common-protos, google-api-core, google-cloud-aiplatform\n",
            "  Attempting uninstall: protobuf\n",
            "    Found existing installation: protobuf 3.20.3\n",
            "    Uninstalling protobuf-3.20.3:\n",
            "      Successfully uninstalled protobuf-3.20.3\n",
            "\u001b[33m  DEPRECATION: Configuring installation scheme with distutils config files is deprecated and will no longer work in the near future. If you are using a Homebrew or Linuxbrew Python, please see discussion at https://github.com/Homebrew/homebrew-core/issues/76621\u001b[0m\u001b[33m\n",
            "\u001b[0m\u001b[33m  DEPRECATION: Configuring installation scheme with distutils config files is deprecated and will no longer work in the near future. If you are using a Homebrew or Linuxbrew Python, please see discussion at https://github.com/Homebrew/homebrew-core/issues/76621\u001b[0m\u001b[33m\n",
            "\u001b[0m  Attempting uninstall: proto-plus\n",
            "    Found existing installation: proto-plus 1.24.0\n",
            "    Uninstalling proto-plus-1.24.0:\n",
            "      Successfully uninstalled proto-plus-1.24.0\n",
            "\u001b[33m  DEPRECATION: Configuring installation scheme with distutils config files is deprecated and will no longer work in the near future. If you are using a Homebrew or Linuxbrew Python, please see discussion at https://github.com/Homebrew/homebrew-core/issues/76621\u001b[0m\u001b[33m\n",
            "\u001b[0m  Attempting uninstall: googleapis-common-protos\n",
            "    Found existing installation: googleapis-common-protos 1.56.2\n",
            "    Uninstalling googleapis-common-protos-1.56.2:\n",
            "      Successfully uninstalled googleapis-common-protos-1.56.2\n",
            "\u001b[33m  DEPRECATION: Configuring installation scheme with distutils config files is deprecated and will no longer work in the near future. If you are using a Homebrew or Linuxbrew Python, please see discussion at https://github.com/Homebrew/homebrew-core/issues/76621\u001b[0m\u001b[33m\n",
            "\u001b[0m  Attempting uninstall: google-api-core\n",
            "    Found existing installation: google-api-core 2.8.1\n",
            "    Uninstalling google-api-core-2.8.1:\n",
            "      Successfully uninstalled google-api-core-2.8.1\n",
            "\u001b[33m  DEPRECATION: Configuring installation scheme with distutils config files is deprecated and will no longer work in the near future. If you are using a Homebrew or Linuxbrew Python, please see discussion at https://github.com/Homebrew/homebrew-core/issues/76621\u001b[0m\u001b[33m\n",
            "\u001b[0m  Attempting uninstall: google-cloud-aiplatform\n",
            "    Found existing installation: google-cloud-aiplatform 1.70.0\n",
            "    Uninstalling google-cloud-aiplatform-1.70.0:\n",
            "      Successfully uninstalled google-cloud-aiplatform-1.70.0\n",
            "\u001b[33m  DEPRECATION: Configuring installation scheme with distutils config files is deprecated and will no longer work in the near future. If you are using a Homebrew or Linuxbrew Python, please see discussion at https://github.com/Homebrew/homebrew-core/issues/76621\u001b[0m\u001b[33m\n",
            "\u001b[0m\u001b[33mDEPRECATION: Configuring installation scheme with distutils config files is deprecated and will no longer work in the near future. If you are using a Homebrew or Linuxbrew Python, please see discussion at https://github.com/Homebrew/homebrew-core/issues/76621\u001b[0m\u001b[33m\n",
            "\u001b[0m\u001b[31mERROR: pip's dependency resolver does not currently take into account all the packages that are installed. This behaviour is the source of the following dependency conflicts.\n",
            "google-cloud-dialogflow 2.5.0 requires google-api-core[grpc]<2.0.0dev,>=1.22.2, but you have google-api-core 2.17.1 which is incompatible.\n",
            "dialogflow 1.1.1 requires google-api-core[grpc]<2.0.0dev,>=1.14.0, but you have google-api-core 2.17.1 which is incompatible.\u001b[0m\u001b[31m\n",
            "\u001b[0mSuccessfully installed absl-py-1.4.0 google-api-core-2.17.1 google-cloud-aiplatform-1.25.0 googleapis-common-protos-1.65.0 proto-plus-1.22.2 protobuf-4.23.0\n",
            "\u001b[33mWARNING: There was an error checking the latest version of pip.\u001b[0m\u001b[33m\n",
            "\u001b[0m\u001b[33mDEPRECATION: Configuring installation scheme with distutils config files is deprecated and will no longer work in the near future. If you are using a Homebrew or Linuxbrew Python, please see discussion at https://github.com/Homebrew/homebrew-core/issues/76621\u001b[0m\u001b[33m\n",
            "\u001b[0m\u001b[31mERROR: Could not find a version that satisfies the requirement scann (from versions: none)\u001b[0m\u001b[31m\n",
            "\u001b[0m\u001b[31mERROR: No matching distribution found for scann\u001b[0m\u001b[31m\n",
            "\u001b[0m\u001b[33mWARNING: There was an error checking the latest version of pip.\u001b[0m\u001b[33m\n",
            "\u001b[0m"
          ]
        }
      ],
      "source": [
        "!gsutil cp gs://vertex-ai-allowlist/generative-ai/vision/multimodalembedding/requirements.txt .\n",
        "\n",
        "!pip3 install -r requirements.txt\n",
        "\n",
        "!pip install scann"
      ]
    },
    {
      "cell_type": "markdown",
      "metadata": {
        "id": "V8W_7GIanteW"
      },
      "source": [
        "## Step 0.0: Define embedding calculation functions. Both image embedding and text embedding calculators are defined below."
      ]
    },
    {
      "cell_type": "markdown",
      "metadata": {
        "id": "LvCkwCrQCNuT"
      },
      "source": [
        "The embedding extraction is served from Vertex AI. Please enable that at your Cloud Console or run `gcloud services enable aiplatform.googleapis.com --project {your_project}`.\n",
        "\n",
        "Use of the API requires allowlisting. Please follow the Prerequisite section in https://docs.google.com/document/d/1UdJSN3I1XfF97g1Ocukse89eaMSksVXGzfFjximPKgs/edit#heading=h.d8qh4jlew6dg to get allowlisted."
      ]
    },
    {
      "cell_type": "code",
      "execution_count": 2,
      "metadata": {
        "id": "JDgD0lsopevS"
      },
      "outputs": [],
      "source": [
        "import base64\n",
        "from google.cloud import storage\n",
        "from google.cloud import aiplatform\n",
        "from google.protobuf import struct_pb2\n",
        "import sys\n",
        "import time\n",
        "import typing\n",
        "\n",
        "PROJECT_ID = '' # @param {type: \"string\"}\n",
        "\n",
        "# Inspired from https://stackoverflow.com/questions/34269772/type-hints-in-namedtuple.\n",
        "class EmbeddingResponse(typing.NamedTuple):\n",
        "  text_embedding: typing.Sequence[float]\n",
        "  image_embedding: typing.Sequence[float]\n",
        "\n",
        "class EmbeddingPredictionClient:\n",
        "  \"\"\"Wrapper around Prediction Service Client.\"\"\"\n",
        "  def __init__(self, project : str,\n",
        "    location : str = \"us-central1\",\n",
        "    api_regional_endpoint: str = \"us-central1-aiplatform.googleapis.com\"):\n",
        "    client_options = {\"api_endpoint\": api_regional_endpoint}\n",
        "    # Initialize client that will be used to create and send requests.\n",
        "    # This client only needs to be created once, and can be reused for multiple requests.\n",
        "    self.client = aiplatform.gapic.PredictionServiceClient(client_options=client_options)\n",
        "    self.location = location\n",
        "    self.project = project\n",
        "\n",
        "  def get_embedding(self, text : str = None, image_bytes : bytes = None):\n",
        "    if not text and not image_bytes:\n",
        "      raise ValueError('At least one of text or image_bytes must be specified.')\n",
        "\n",
        "    instance = struct_pb2.Struct()\n",
        "    if text:\n",
        "      instance.fields['text'].string_value = text\n",
        "\n",
        "    if image_bytes:\n",
        "      encoded_content = base64.b64encode(image_bytes).decode(\"utf-8\")\n",
        "      image_struct = instance.fields['image'].struct_value\n",
        "      image_struct.fields['bytesBase64Encoded'].string_value = encoded_content\n",
        "\n",
        "    instances = [instance]\n",
        "    endpoint = (f\"projects/{self.project}/locations/{self.location}\"\n",
        "      \"/publishers/google/models/multimodalembedding@001\")\n",
        "    response = self.client.predict(endpoint=endpoint, instances=instances)\n",
        "\n",
        "    text_embedding = None\n",
        "    if text:\n",
        "      text_emb_value = response.predictions[0]['textEmbedding']\n",
        "      text_embedding = [v for v in text_emb_value]\n",
        "\n",
        "    image_embedding = None\n",
        "    if image_bytes:\n",
        "      image_emb_value = response.predictions[0]['imageEmbedding']\n",
        "      image_embedding = [v for v in image_emb_value]\n",
        "\n",
        "    return EmbeddingResponse(\n",
        "      text_embedding=text_embedding,\n",
        "      image_embedding=image_embedding)\n",
        "\n",
        "client = EmbeddingPredictionClient(project=PROJECT_ID)\n",
        "\n",
        "# Extract image embedding\n",
        "def getImageEmbeddingFromImageContent(content):\n",
        "  response = client.get_embedding(text=None, image_bytes=content)\n",
        "  return response.image_embedding\n",
        "\n",
        "def getImageEmbeddingFromGcsObject(gcsBucket, gcsObject):\n",
        "  client = storage.Client()\n",
        "  bucket = client.bucket(gcsBucket)\n",
        "  blob = bucket.blob(gcsObject)\n",
        "\n",
        "  with blob.open(\"rb\") as f:\n",
        "    return getImageEmbeddingFromImageContent(f.read())\n",
        "\n",
        "def getImageEmbeddingFromFile(filePath):\n",
        "  with open(filePath, \"rb\") as f:\n",
        "    return getImageEmbeddingFromImageContent(f.read())\n",
        "\n",
        "# Extract text embedding\n",
        "def getTextEmbedding(text):\n",
        "  response = client.get_embedding(text=text, image_bytes=None)\n",
        "  return response.text_embedding\n"
      ]
    },
    {
      "cell_type": "markdown",
      "metadata": {
        "id": "UgX-mNUKn778"
      },
      "source": [
        "## Step 0.1: Authenticate yourself.\n",
        "\n",
        "As downstream references GCP services (e.g. GCS) in almost all sections, please get yourself authenticated so you can access the services without getting 403 (Access Denied)."
      ]
    },
    {
      "cell_type": "code",
      "execution_count": null,
      "metadata": {
        "id": "0kUvlVb1HvVW"
      },
      "outputs": [],
      "source": [
        "from google.colab import auth as google_auth\n",
        "\n",
        "google_auth.authenticate_user()"
      ]
    },
    {
      "cell_type": "markdown",
      "metadata": {
        "id": "AVSEmCFHohG2"
      },
      "source": [
        "# Section 1: Build CoCa image embedding dataset.\n",
        "\n",
        "\n",
        "---\n",
        "\n",
        "This section calculates the CoCa image embeddings for a set of images stored in GCS. The number of images in the dataset is less than 100 so we are calculating the embedding in sequence. For larger datasets, please use Dataflow to improve the parallelism.\n",
        "\n",
        "The image dataset is contributed by the engineering team."
      ]
    },
    {
      "cell_type": "code",
      "execution_count": null,
      "metadata": {
        "id": "x2BrVlM-phGN"
      },
      "outputs": [],
      "source": [
        "from google.cloud import storage\n",
        "import csv\n",
        "\n",
        "# This is the GCS bucket that holds the images that you want to analyze and\n",
        "# index. You will need the bucket list and object reading permission to proceed.\n",
        "# The default bucket provided here contains 61 images contributed by the\n",
        "# engineer team. If you want to try your own image set, feel free to point this\n",
        "# to another GCS bucket that holds your images. Please make sure all files in\n",
        "# the GCS bucket are images (e.g. JPG, PNG). Non image files would cause\n",
        "# inference exception down below.\n",
        "IMAGE_SET_BUCKET_NAME = \"coca-embedding-test-images\" # @param {type: \"string\"}\n",
        "\n",
        "gcsBucket = storage.Client().get_bucket(IMAGE_SET_BUCKET_NAME)\n",
        "\n",
        "with open('image_embedding.csv', 'w') as f:\n",
        "  csvWriter = csv.writer(f)\n",
        "  csvWriter.writerow(['gcsUri', 'embedding'])\n",
        "  for blob in gcsBucket.list_blobs():\n",
        "    gcsUri = \"gs://\" + IMAGE_SET_BUCKET_NAME + \"/\" + blob.name\n",
        "    print(\"Processing {}\".format(gcsUri))\n",
        "    embedding = getImageEmbeddingFromGcsObject(IMAGE_SET_BUCKET_NAME, blob.name)\n",
        "    csvWriter.writerow([gcsUri, str(embedding)])"
      ]
    },
    {
      "cell_type": "markdown",
      "metadata": {
        "id": "AWXlKvefpSUV"
      },
      "source": [
        "As the image embedding calculation can take long, we can save the generated image_embedding.csv locally so we can start section 2 later on in a separate session."
      ]
    },
    {
      "cell_type": "code",
      "execution_count": null,
      "metadata": {
        "id": "nsU8zmmnfchx"
      },
      "outputs": [],
      "source": [
        "from google.colab import files\n",
        "\n",
        "files.download('image_embedding.csv')"
      ]
    },
    {
      "cell_type": "markdown",
      "metadata": {
        "id": "Uc5SLuEuqQc8"
      },
      "source": [
        "# Section 2: Zero shot image search by text or image similarity.\n",
        "\n",
        "---\n",
        "This section searches the images by either ScaNN or Vertex Matching Engine. Text embedding is calculated using getTextEmbedding() defined in Section 0.\n",
        "Image embedding is calculated using getImageEmbeddingFromFile() defined in Section 0 too.\n"
      ]
    },
    {
      "cell_type": "markdown",
      "metadata": {
        "id": "730svcR_utRD"
      },
      "source": [
        "## Section 2.0: Preparation\n",
        "\n",
        "### Step 2.0.0: Upload the image_embedding.csv from where you uploaded to at the end of section 1.\n",
        "\n",
        "If you are directly doing after section 1 without restarting the runtime, the file existance check will skip the file upload automatically."
      ]
    },
    {
      "cell_type": "code",
      "execution_count": null,
      "metadata": {
        "id": "FZxvruXrRGQ6"
      },
      "outputs": [],
      "source": [
        "from google.colab import files\n",
        "import os\n",
        "\n",
        "if not os.path.exists('image_embedding.csv'):\n",
        "  print(\"Upload your saved image_embedding.csv\")\n",
        "\n",
        "  uploaded = files.upload()\n",
        "\n",
        "  found_file = False\n",
        "  for filename in uploaded.keys():\n",
        "    print(uploaded)\n",
        "    if filename == \"image_embedding.csv\":\n",
        "      print(\"Found your image_embedding.csv\")\n",
        "      found_file = True\n",
        "\n",
        "  if not found_file:\n",
        "    raise ValueError(\"No image_embedding.csv uploaded\")"
      ]
    },
    {
      "cell_type": "markdown",
      "metadata": {
        "id": "MBICZK4nvDJU"
      },
      "source": [
        "Load the image embedding file to pandas."
      ]
    },
    {
      "cell_type": "code",
      "execution_count": null,
      "metadata": {
        "id": "OO6pEaxlk-SF"
      },
      "outputs": [],
      "source": [
        "import pandas as pd\n",
        "import numpy as np\n",
        "\n",
        "df = pd.read_csv('image_embedding.csv')\n",
        "df.embedding = df.embedding.apply(eval).apply(np.array)\n",
        "\n",
        "df.head(5)"
      ]
    },
    {
      "cell_type": "markdown",
      "metadata": {
        "id": "8UzRSam0w1BP"
      },
      "source": [
        "### Step 2.0.1: Define a helper function to search image by text.\n",
        "\n",
        "It does the following in order:\n",
        "\n",
        "1. calculate the text embedding\n",
        "2. search the embedding from the search backend (ScaNN or VME), and get top 3 closest neighbors.\n",
        "3. Display the search results and the corresponding images."
      ]
    },
    {
      "cell_type": "code",
      "execution_count": null,
      "metadata": {
        "id": "BjPpUDM4xax-"
      },
      "outputs": [],
      "source": [
        "from pandas.io.parsers.readers import ParserBase\n",
        "import time\n",
        "import re\n",
        "import cv2\n",
        "from google.colab.patches import cv2_imshow\n",
        "from google.colab import files\n",
        "\n",
        "# @@search_backend_function is a function that takes two parameters\n",
        "#   @@embedding_vector: a embedding vector to search against.\n",
        "#   @@num_neighbors: number of neighbors to return from the backend.\n",
        "# and it returns two things\n",
        "#   @@neighbors: a list of ids (0 based position in the dataset) indicating the\n",
        "#                neighbors that's closest to the input embedding_vector.\n",
        "#   @@distances: a list of distances, each corresponding to the distance from\n",
        "#                the @@embedding_vector to the data point int he dataset,\n",
        "#                indexed by the corresponding id in @@neighbor.\n",
        "def searchImagesByEmbedding(start_time, embedding, search_backend_function,\n",
        "                            num_neighbors = 3):\n",
        "    neighbors, distances = search_backend_function(\n",
        "        embedding, num_neighbors)\n",
        "    end = time.time()\n",
        "\n",
        "    gcsClient = storage.Client()\n",
        "    for id, dist in zip(neighbors, distances):\n",
        "        print(f'docid:{id} dist:{dist} gcsUri:{df.gcsUri[id]}')\n",
        "        # Display the image\n",
        "        gcsUri = df.gcsUri[id]\n",
        "        m = re.search('gs://([^/]*)/([^$]*)', gcsUri)\n",
        "        imageBlob = gcsClient.get_bucket(m[1]).blob(m[2])\n",
        "        tmpFilename = \"/tmp/tmp_image\"\n",
        "        imageBlob.download_to_filename(tmpFilename)\n",
        "        image = cv2.imread(tmpFilename, -1)\n",
        "        cv2_imshow(image)\n",
        "\n",
        "    print(\"Latency (ms):\", 1000*(end - start_time))\n",
        "\n",
        "def searchImagesByText(query, search_backend_function, num_neighbors = 3):\n",
        "    start_time = time.time()\n",
        "    query_embedding = getTextEmbedding(query)\n",
        "    return searchImagesByEmbedding(start_time, query_embedding,\n",
        "                                   search_backend_function)\n",
        "\n",
        "def searchImagesByUploadedImages(search_backend_function, num_neighbors = 3):\n",
        "    uploaded = files.upload()\n",
        "    for filename in uploaded.keys():\n",
        "      print('Searching images similar to {}'.format(filename))\n",
        "      image = cv2.imread(filename, -1)\n",
        "      cv2_imshow(image)\n",
        "      start_time = time.time()\n",
        "      image_embedding = getImageEmbeddingFromFile(filename)\n",
        "      searchImagesByEmbedding(start_time, image_embedding,\n",
        "                              search_backend_function, num_neighbors)\n"
      ]
    },
    {
      "cell_type": "markdown",
      "metadata": {
        "id": "Vel7cDAgvTCB"
      },
      "source": [
        "### Section 2.1 and Section 2.2 shows how to search using ScaNN and VME respectively. You can try one of them, or both. If you want to try search using VME directly, please jump to Section 2.2."
      ]
    },
    {
      "cell_type": "markdown",
      "metadata": {
        "id": "QyQvAo3HvsgA"
      },
      "source": [
        "## Section 2.1: Search using ScaNN."
      ]
    },
    {
      "cell_type": "markdown",
      "metadata": {
        "id": "QrzBk-lhSwAN"
      },
      "source": [
        "### Step 2.1.0: Construct the dataset that ScaNN consumes as the input. And then define the function to search against it."
      ]
    },
    {
      "cell_type": "code",
      "execution_count": null,
      "metadata": {
        "id": "n9IzB6NRl9Ts"
      },
      "outputs": [],
      "source": [
        "import scann\n",
        "import numpy as np\n",
        "import pandas as pd\n",
        "\n",
        "# df.shape[0] is the #data in the dataset.\n",
        "# df.embedding[0].size is the embedding vector size.\n",
        "dataset = np.empty((df.shape[0], df.embedding[0].size))\n",
        "for i in range(df.shape[0]):\n",
        "  dataset[i] = df.embedding[i]\n",
        "\n",
        "searcher = scann.scann_ops_pybind.builder(dataset, 10, \"dot_product\").tree(\n",
        "    num_leaves=10, num_leaves_to_search=10).score_ah(2).reorder(100).build()\n",
        "\n",
        "def searchByScaNN(embedding_vector, num_neighbors):\n",
        "    return searcher.search(\n",
        "        embedding_vector, final_num_neighbors = num_neighbors)"
      ]
    },
    {
      "cell_type": "markdown",
      "metadata": {
        "id": "8TfqtpChTLIW"
      },
      "source": [
        "### Step 2.1.1: Search\n",
        "\n",
        "You can either do search by text, or search by image. Search by image is not the advantages of CoCa model, so here just shows you its capability."
      ]
    },
    {
      "cell_type": "code",
      "execution_count": null,
      "metadata": {
        "id": "DsFffqTCyBv9"
      },
      "outputs": [],
      "source": [
        "# Search by text. Modify the query and execute to see the search result.\n",
        "searchImagesByText(\"lake view\", searchByScaNN)"
      ]
    },
    {
      "cell_type": "code",
      "execution_count": null,
      "metadata": {
        "id": "9ISjkV08Dvta"
      },
      "outputs": [],
      "source": [
        "# Search by image. Upload your own image and search.\n",
        "searchImagesByUploadedImages(searchByScaNN)"
      ]
    },
    {
      "cell_type": "markdown",
      "metadata": {
        "id": "1Ub7V-4L2dxb"
      },
      "source": [
        "## Section 2.2: Search using Vertex Matching Engine.\n",
        "\n",
        "Please note that using Vertex Matching Engine for embedding search would incur cost to your GCP project."
      ]
    },
    {
      "cell_type": "markdown",
      "metadata": {
        "id": "IZ-kRu9F6KT_"
      },
      "source": [
        "### Step 2.2.0: Define a set of constants used by downstream."
      ]
    },
    {
      "cell_type": "code",
      "execution_count": null,
      "metadata": {
        "id": "vHa0mP4x6QWv"
      },
      "outputs": [],
      "source": [
        "REGION = 'us-central1' # @param {type: \"string\"}\n",
        "\n",
        "! gcloud config set project {PROJECT_ID}\n",
        "\n",
        "ENDPOINT = \"{}-aiplatform.googleapis.com\".format(REGION)\n",
        "\n",
        "PROJECT_NUMBER = !gcloud projects list --filter=\"PROJECT_ID:'{PROJECT_ID}'\" --format='value(PROJECT_NUMBER)'\n",
        "PROJECT_NUMBER = PROJECT_NUMBER[0]\n",
        "\n",
        "PARENT = \"projects/{}/locations/{}\".format(PROJECT_ID, REGION)\n",
        "\n",
        "# Bucket for holding the indexing data for VME. You will need the bucket\n",
        "# writing permission to proceed.\n",
        "INDEX_DATA_BUCKET_NAME = '' # @param {type: \"string\"}\n",
        "\n",
        "! gsutil mb -l $REGION -p $PROJECT_ID gs://{INDEX_DATA_BUCKET_NAME}\n",
        "! gsutil rm -raf gs://{INDEX_DATA_BUCKET_NAME}/** 2> /dev/null || true"
      ]
    },
    {
      "cell_type": "markdown",
      "metadata": {
        "id": "DPWyDSm94OtN"
      },
      "source": [
        "### Step 2.2.1: Convert the image embedding into the JSON format that VME recognizes.\n",
        "\n",
        "The idx is the position of the data point in the dataset.\n",
        "\n",
        "After conversion, upload the JSON file to a empty GCS bucket so VME can consume."
      ]
    },
    {
      "cell_type": "code",
      "execution_count": null,
      "metadata": {
        "id": "JBF8j8NX4jhx"
      },
      "outputs": [],
      "source": [
        "import json\n",
        "\n",
        "with open('image_embedding.json', 'w') as f:\n",
        "  for idx, embedding in enumerate(df.embedding):\n",
        "    json.dump({\"id\": idx, \"embedding\": embedding.tolist()}, f)\n",
        "    f.write('\\n')\n",
        "\n",
        "! gsutil cp image_embedding.json gs://{INDEX_DATA_BUCKET_NAME}/image_embedding.json"
      ]
    },
    {
      "cell_type": "markdown",
      "metadata": {
        "id": "mIfWkRai7FFg"
      },
      "source": [
        "### Step 2.2.2: Create VME index from the dataset. The index creation may take ~30 minutes."
      ]
    },
    {
      "cell_type": "code",
      "execution_count": null,
      "metadata": {
        "id": "9NUqOAIC7Hiz"
      },
      "outputs": [],
      "source": [
        "import time\n",
        "from google.cloud import aiplatform_v1beta1\n",
        "from google.protobuf import struct_pb2\n",
        "\n",
        "DIMENSIONS = df.embedding[0].size\n",
        "DISPLAY_NAME = \"image-embedding\"\n",
        "\n",
        "index_client = aiplatform_v1beta1.IndexServiceClient(\n",
        "    client_options=dict(api_endpoint=ENDPOINT)\n",
        ")\n",
        "\n",
        "treeAhConfig = struct_pb2.Struct(\n",
        "    fields={\n",
        "        \"leafNodeEmbeddingCount\": struct_pb2.Value(number_value=df.shape[0]),\n",
        "        \"leafNodesToSearchPercent\": struct_pb2.Value(number_value=7),\n",
        "    }\n",
        ")\n",
        "\n",
        "algorithmConfig = struct_pb2.Struct(\n",
        "    fields={\"treeAhConfig\": struct_pb2.Value(struct_value=treeAhConfig)}\n",
        ")\n",
        "\n",
        "config = struct_pb2.Struct(\n",
        "    fields={\n",
        "        \"dimensions\": struct_pb2.Value(number_value=DIMENSIONS),\n",
        "        \"approximateNeighborsCount\": struct_pb2.Value(number_value=10),\n",
        "        \"distanceMeasureType\": struct_pb2.Value(string_value=\"DOT_PRODUCT_DISTANCE\"),\n",
        "        \"algorithmConfig\": struct_pb2.Value(struct_value=algorithmConfig),\n",
        "    }\n",
        ")\n",
        "\n",
        "metadata = struct_pb2.Struct(\n",
        "    fields={\n",
        "        \"config\": struct_pb2.Value(struct_value=config),\n",
        "        \"contentsDeltaUri\": struct_pb2.Value(string_value=\"gs://{}\".format(INDEX_DATA_BUCKET_NAME)),\n",
        "    }\n",
        ")\n",
        "\n",
        "matching_engine_index = {\n",
        "    \"display_name\": DISPLAY_NAME,\n",
        "    \"description\": \"Google Products Vertex AI Matching Engine Index\",\n",
        "    \"metadata\": struct_pb2.Value(struct_value=metadata),\n",
        "}\n",
        "\n",
        "# Create the index and wait for it to be ready.\n",
        "matching_engine_index_operation = index_client.create_index(\n",
        "    parent=PARENT, index=matching_engine_index\n",
        ")\n",
        "\n",
        "while not matching_engine_index_operation.done():\n",
        "    print(\"Poll the operation to create index...\")\n",
        "    time.sleep(60)\n",
        "\n",
        "INDEX_RESOURCE_NAME = matching_engine_index_operation.result().name\n",
        "print(\"Index created: {}\".format(INDEX_RESOURCE_NAME))"
      ]
    },
    {
      "cell_type": "markdown",
      "metadata": {
        "id": "1-VyV61k8CK7"
      },
      "source": [
        "### Step 2.2.3: Create Index Endpoint.\n",
        "\n",
        "Create an index endpoint so that we can deploy the index to. This usually takes a few minutes."
      ]
    },
    {
      "cell_type": "code",
      "execution_count": null,
      "metadata": {
        "id": "pDw391nk8PPZ"
      },
      "outputs": [],
      "source": [
        "index_endpoint_client = aiplatform_v1beta1.IndexEndpointServiceClient(\n",
        "    client_options=dict(api_endpoint=ENDPOINT)\n",
        ")\n",
        "\n",
        "index_endpoint = {\n",
        "    \"display_name\": \"coca_image_index_endpoint\",\n",
        "    \"public_endpoint_enabled\": True,\n",
        "}\n",
        "\n",
        "index_endpoint_operation = index_endpoint_client.create_index_endpoint(\n",
        "    parent=PARENT, index_endpoint=index_endpoint\n",
        ")\n",
        "\n",
        "while not index_endpoint_operation.done():\n",
        "    print(\"Poll the operation to create index endpoint...\")\n",
        "    time.sleep(60)\n",
        "\n",
        "INDEX_ENDPOINT_NAME = index_endpoint_operation.result().name\n",
        "print(\"Index endpoint created: {}\".format(INDEX_ENDPOINT_NAME))\n",
        "\n",
        "index_endpoint = index_endpoint_client.get_index_endpoint(\n",
        "    name = INDEX_ENDPOINT_NAME)\n",
        "\n",
        "INDEX_ENDPOINT_PUBLIC_DOMAIN_NAME = index_endpoint.public_endpoint_domain_name\n",
        "\n",
        "print(\"Index endpoint public domain name: {}\".format(\n",
        "    INDEX_ENDPOINT_PUBLIC_DOMAIN_NAME))"
      ]
    },
    {
      "cell_type": "markdown",
      "metadata": {
        "id": "Sj1wRMYM8yjF"
      },
      "source": [
        "### Step 2.2.4: Deploy the index to the endpoint.\n",
        "\n",
        "This usually takes ~15 minutes."
      ]
    },
    {
      "cell_type": "code",
      "execution_count": null,
      "metadata": {
        "id": "c3H5C22V9CDR"
      },
      "outputs": [],
      "source": [
        "DEPLOYED_INDEX_ID = \"coca_image_embedding_deployment\" # @param {type: \"string\"}\n",
        "\n",
        "deploy_matching_engine_index = {\n",
        "    \"id\": DEPLOYED_INDEX_ID,\n",
        "    \"display_name\": DEPLOYED_INDEX_ID,\n",
        "    \"index\": INDEX_RESOURCE_NAME,\n",
        "}\n",
        "\n",
        "deploy_index_operation = index_endpoint_client.deploy_index(\n",
        "    index_endpoint=INDEX_ENDPOINT_NAME, deployed_index=deploy_matching_engine_index\n",
        ")\n",
        "\n",
        "while not deploy_index_operation.done():\n",
        "    print(\"Poll the operation to deploy index...\")\n",
        "    time.sleep(60)\n",
        "\n",
        "deploy_index_operation.result()"
      ]
    },
    {
      "cell_type": "markdown",
      "metadata": {
        "id": "iue1SE6hFdyU"
      },
      "source": [
        "### Step 2.2.5: Define the function that searches against VME."
      ]
    },
    {
      "cell_type": "code",
      "execution_count": null,
      "metadata": {
        "id": "g34EblPE9VkS"
      },
      "outputs": [],
      "source": [
        "from proto.fields import RepeatedField, ProtoType\n",
        "from google.cloud.aiplatform_v1beta1 import MatchServiceClient, IndexDatapoint, FindNeighborsRequest, FindNeighborsResponse\n",
        "\n",
        "match_service_client = MatchServiceClient(\n",
        "    client_options=dict(api_endpoint=INDEX_ENDPOINT_PUBLIC_DOMAIN_NAME)\n",
        ")\n",
        "\n",
        "def searchByVertexMatchingEngine(embedding_to_search, neighbor_count):\n",
        "  datapoint = IndexDatapoint(\n",
        "      feature_vector = embedding_to_search\n",
        "  )\n",
        "\n",
        "  query = FindNeighborsRequest.Query(\n",
        "      datapoint = datapoint,\n",
        "      neighbor_count = neighbor_count\n",
        "  )\n",
        "\n",
        "  find_neighbors_request = FindNeighborsRequest(\n",
        "      index_endpoint = INDEX_ENDPOINT_NAME,\n",
        "      deployed_index_id = DEPLOYED_INDEX_ID,\n",
        "      queries = [query],\n",
        "  )\n",
        "\n",
        "  response = match_service_client.find_neighbors(\n",
        "      request = find_neighbors_request)\n",
        "\n",
        "  neighbors = []\n",
        "  distances = []\n",
        "  for neighbor in response.nearest_neighbors[0].neighbors:\n",
        "    neighbors.append(int(neighbor.datapoint.datapoint_id))\n",
        "    distances.append(neighbor.distance)\n",
        "\n",
        "  return neighbors, distances"
      ]
    },
    {
      "cell_type": "markdown",
      "metadata": {
        "id": "XYlYWlD3D_Zn"
      },
      "source": [
        "\n",
        "### Step 2.2.8: Search\n",
        "\n",
        "You can either do search by text, or search by image. Search by image is not the advantages of CoCa model, so here just shows you its capability."
      ]
    },
    {
      "cell_type": "code",
      "execution_count": null,
      "metadata": {
        "id": "waFTzu1u9rVw"
      },
      "outputs": [],
      "source": [
        "# Search by text. Modify the query and execute to see the search result.\n",
        "searchImagesByText(\"lake view\", searchByVertexMatchingEngine)"
      ]
    },
    {
      "cell_type": "code",
      "execution_count": null,
      "metadata": {
        "id": "JWH-W9sJELhw"
      },
      "outputs": [],
      "source": [
        "# Search by image. Upload your own image and search.\n",
        "searchImagesByUploadedImages(searchByVertexMatchingEngine)"
      ]
    },
    {
      "cell_type": "markdown",
      "metadata": {
        "id": "wFJ-jX25FlzF"
      },
      "source": [
        "### Step 2.2.9: Cleanup\n",
        "\n",
        "Clean up the resource that's allocated for the Colab, including index, endpoint and the deployment. We need to clean them up in the reverse order, meaning, we first undeploy the index, then delete the index endpoint, and finally delete the index.\n",
        "\n",
        "We are not tracking the completion of the operations here, assuming they will be cleaned up eventually."
      ]
    },
    {
      "cell_type": "code",
      "execution_count": null,
      "metadata": {
        "id": "Imav6fTFM7_l"
      },
      "outputs": [],
      "source": [
        "index_endpoint_client.undeploy_index(index_endpoint=INDEX_ENDPOINT_NAME,\n",
        "                                     deployed_index_id=DEPLOYED_INDEX_ID)\n",
        "\n",
        "index_endpoint_client.delete_index_endpoint(name=INDEX_ENDPOINT_NAME)\n",
        "\n",
        "index_client.delete_index(name=INDEX_RESOURCE_NAME)"
      ]
    }
  ],
  "metadata": {
    "colab": {
      "provenance": []
    },
    "kernelspec": {
      "display_name": "Python 3",
      "name": "python3"
    },
    "language_info": {
      "codemirror_mode": {
        "name": "ipython",
        "version": 3
      },
      "file_extension": ".py",
      "mimetype": "text/x-python",
      "name": "python",
      "nbconvert_exporter": "python",
      "pygments_lexer": "ipython3",
      "version": "3.9.13"
    }
  },
  "nbformat": 4,
  "nbformat_minor": 0
}
